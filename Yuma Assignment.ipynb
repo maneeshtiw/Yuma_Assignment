{
 "cells": [
  {
   "cell_type": "markdown",
   "id": "413e91eb",
   "metadata": {},
   "source": [
    "### 1. Data Preprocessing."
   ]
  },
  {
   "cell_type": "code",
   "execution_count": 1,
   "id": "375622e2",
   "metadata": {},
   "outputs": [],
   "source": [
    "# First import the required library for loading csv file.\n",
    "import pandas as pd"
   ]
  },
  {
   "cell_type": "code",
   "execution_count": 2,
   "id": "e72ce8a8",
   "metadata": {},
   "outputs": [],
   "source": [
    "# Now Load the CSV file.\n",
    "data = pd.read_csv(r\"C:\\Users\\DEV-Study\\Downloads\\Data Source (sales_transactions).csv\")"
   ]
  },
  {
   "cell_type": "code",
   "execution_count": 3,
   "id": "7f7a3234",
   "metadata": {},
   "outputs": [
    {
     "data": {
      "text/html": [
       "<div>\n",
       "<style scoped>\n",
       "    .dataframe tbody tr th:only-of-type {\n",
       "        vertical-align: middle;\n",
       "    }\n",
       "\n",
       "    .dataframe tbody tr th {\n",
       "        vertical-align: top;\n",
       "    }\n",
       "\n",
       "    .dataframe thead th {\n",
       "        text-align: right;\n",
       "    }\n",
       "</style>\n",
       "<table border=\"1\" class=\"dataframe\">\n",
       "  <thead>\n",
       "    <tr style=\"text-align: right;\">\n",
       "      <th></th>\n",
       "      <th>TransactionID</th>\n",
       "      <th>CustomerID</th>\n",
       "      <th>TransactionDate</th>\n",
       "      <th>ProductID</th>\n",
       "      <th>ProductCategory</th>\n",
       "      <th>Quantity</th>\n",
       "      <th>PricePerUnit</th>\n",
       "      <th>TotalAmount</th>\n",
       "      <th>TrustPointsUsed</th>\n",
       "      <th>PaymentMethod</th>\n",
       "      <th>DiscountApplied</th>\n",
       "    </tr>\n",
       "  </thead>\n",
       "  <tbody>\n",
       "    <tr>\n",
       "      <th>0</th>\n",
       "      <td>1</td>\n",
       "      <td>1002.0</td>\n",
       "      <td>08/08/24 22:00</td>\n",
       "      <td>2008</td>\n",
       "      <td>Grocery</td>\n",
       "      <td>1</td>\n",
       "      <td>10.0</td>\n",
       "      <td>10.0</td>\n",
       "      <td>20</td>\n",
       "      <td>Trust Points</td>\n",
       "      <td>5.0</td>\n",
       "    </tr>\n",
       "    <tr>\n",
       "      <th>1</th>\n",
       "      <td>2</td>\n",
       "      <td>NaN</td>\n",
       "      <td>07/08/24 1:00</td>\n",
       "      <td>2004</td>\n",
       "      <td>Home Decor</td>\n",
       "      <td>1</td>\n",
       "      <td>10.0</td>\n",
       "      <td>10.0</td>\n",
       "      <td>0</td>\n",
       "      <td>Credit Card</td>\n",
       "      <td>20.0</td>\n",
       "    </tr>\n",
       "    <tr>\n",
       "      <th>2</th>\n",
       "      <td>3</td>\n",
       "      <td>1004.0</td>\n",
       "      <td>02/08/24 19:00</td>\n",
       "      <td>2002</td>\n",
       "      <td>Grocery</td>\n",
       "      <td>3</td>\n",
       "      <td>30.0</td>\n",
       "      <td>90.0</td>\n",
       "      <td>0</td>\n",
       "      <td>Credit Card</td>\n",
       "      <td>25.0</td>\n",
       "    </tr>\n",
       "    <tr>\n",
       "      <th>3</th>\n",
       "      <td>2</td>\n",
       "      <td>1003.0</td>\n",
       "      <td>07/08/24 17:00</td>\n",
       "      <td>2001</td>\n",
       "      <td>Toys</td>\n",
       "      <td>2</td>\n",
       "      <td>30.0</td>\n",
       "      <td>60.0</td>\n",
       "      <td>50</td>\n",
       "      <td>NaN</td>\n",
       "      <td>20.0</td>\n",
       "    </tr>\n",
       "    <tr>\n",
       "      <th>4</th>\n",
       "      <td>5</td>\n",
       "      <td>1001.0</td>\n",
       "      <td>09/08/24 9:00</td>\n",
       "      <td>2008</td>\n",
       "      <td>Grocery</td>\n",
       "      <td>1</td>\n",
       "      <td>NaN</td>\n",
       "      <td>NaN</td>\n",
       "      <td>20</td>\n",
       "      <td>Trust Points</td>\n",
       "      <td>5.0</td>\n",
       "    </tr>\n",
       "  </tbody>\n",
       "</table>\n",
       "</div>"
      ],
      "text/plain": [
       "   TransactionID  CustomerID TransactionDate  ProductID ProductCategory  \\\n",
       "0              1      1002.0  08/08/24 22:00       2008         Grocery   \n",
       "1              2         NaN   07/08/24 1:00       2004      Home Decor   \n",
       "2              3      1004.0  02/08/24 19:00       2002         Grocery   \n",
       "3              2      1003.0  07/08/24 17:00       2001            Toys   \n",
       "4              5      1001.0   09/08/24 9:00       2008         Grocery   \n",
       "\n",
       "   Quantity  PricePerUnit  TotalAmount  TrustPointsUsed PaymentMethod  \\\n",
       "0         1          10.0         10.0               20  Trust Points   \n",
       "1         1          10.0         10.0                0   Credit Card   \n",
       "2         3          30.0         90.0                0   Credit Card   \n",
       "3         2          30.0         60.0               50           NaN   \n",
       "4         1           NaN          NaN               20  Trust Points   \n",
       "\n",
       "   DiscountApplied  \n",
       "0              5.0  \n",
       "1             20.0  \n",
       "2             25.0  \n",
       "3             20.0  \n",
       "4              5.0  "
      ]
     },
     "execution_count": 3,
     "metadata": {},
     "output_type": "execute_result"
    }
   ],
   "source": [
    "# Inspect the Data:\n",
    "\n",
    "# # Display the first few rows and summary of the DataFrame\n",
    "data.head()"
   ]
  },
  {
   "cell_type": "code",
   "execution_count": null,
   "id": "9f772ff3",
   "metadata": {},
   "outputs": [],
   "source": [
    "# When i see data i observed few thing write step by step.\n",
    "\n",
    "# Initial Understanding: The CSV data had some missing values, negative values, and inconsistencies. \n",
    "                         # I started by inspecting these issues.\n",
    "\n",
    "# Data Handling: Addressed missing values and replaced or corrected invalid entries to ensure data quality or remove rows.\n",
    "\n",
    "# Standardization: Converted data types for consistency and ensured all columns were in appropriate formats.\n",
    "\n",
    "# Cleanup: Removed duplicates and handled inconsistencies to make the dataset ready for further analysis."
   ]
  },
  {
   "cell_type": "code",
   "execution_count": 4,
   "id": "076967b3",
   "metadata": {},
   "outputs": [
    {
     "data": {
      "text/plain": [
       "TransactionID       0\n",
       "CustomerID          5\n",
       "TransactionDate     1\n",
       "ProductID           0\n",
       "ProductCategory     0\n",
       "Quantity            0\n",
       "PricePerUnit       14\n",
       "TotalAmount        14\n",
       "TrustPointsUsed     0\n",
       "PaymentMethod      10\n",
       "DiscountApplied     5\n",
       "dtype: int64"
      ]
     },
     "execution_count": 4,
     "metadata": {},
     "output_type": "execute_result"
    }
   ],
   "source": [
    "# Handle Missing Values:\n",
    "\n",
    "# first Checking the missing values:\n",
    "data.isnull().sum()"
   ]
  },
  {
   "cell_type": "code",
   "execution_count": 5,
   "id": "3f65d932",
   "metadata": {},
   "outputs": [],
   "source": [
    "# Now i want drop missing values becuse if CustomerID is missing then data is not any use for my analysis.\n",
    "data = data.dropna()"
   ]
  },
  {
   "cell_type": "code",
   "execution_count": 6,
   "id": "33c46fe0",
   "metadata": {},
   "outputs": [
    {
     "data": {
      "text/plain": [
       "TransactionID      0\n",
       "CustomerID         0\n",
       "TransactionDate    0\n",
       "ProductID          0\n",
       "ProductCategory    0\n",
       "Quantity           0\n",
       "PricePerUnit       0\n",
       "TotalAmount        0\n",
       "TrustPointsUsed    0\n",
       "PaymentMethod      0\n",
       "DiscountApplied    0\n",
       "dtype: int64"
      ]
     },
     "execution_count": 6,
     "metadata": {},
     "output_type": "execute_result"
    }
   ],
   "source": [
    "# Check Again\n",
    "data.isnull().sum()"
   ]
  },
  {
   "cell_type": "code",
   "execution_count": 7,
   "id": "9977666c",
   "metadata": {},
   "outputs": [
    {
     "name": "stdout",
     "output_type": "stream",
     "text": [
      "<class 'pandas.core.frame.DataFrame'>\n",
      "Int64Index: 24 entries, 0 to 46\n",
      "Data columns (total 11 columns):\n",
      " #   Column           Non-Null Count  Dtype  \n",
      "---  ------           --------------  -----  \n",
      " 0   TransactionID    24 non-null     int64  \n",
      " 1   CustomerID       24 non-null     float64\n",
      " 2   TransactionDate  24 non-null     object \n",
      " 3   ProductID        24 non-null     int64  \n",
      " 4   ProductCategory  24 non-null     object \n",
      " 5   Quantity         24 non-null     int64  \n",
      " 6   PricePerUnit     24 non-null     float64\n",
      " 7   TotalAmount      24 non-null     float64\n",
      " 8   TrustPointsUsed  24 non-null     int64  \n",
      " 9   PaymentMethod    24 non-null     object \n",
      " 10  DiscountApplied  24 non-null     float64\n",
      "dtypes: float64(4), int64(4), object(3)\n",
      "memory usage: 2.2+ KB\n"
     ]
    }
   ],
   "source": [
    "# Now check summary of the data information.\n",
    "data.info()"
   ]
  },
  {
   "cell_type": "code",
   "execution_count": 8,
   "id": "21295c11",
   "metadata": {},
   "outputs": [],
   "source": [
    "# Convert data type becuase in few columns data type is not correct.\n",
    "# data['TransactionDate'] = pd.to_datetime(data['TransactionDate'], format='%d/%m/%Y %H:%M', errors='coerce')\n",
    "data['TransactionDate'] = pd.to_datetime(data['TransactionDate'])"
   ]
  },
  {
   "cell_type": "code",
   "execution_count": 10,
   "id": "6aa3c107",
   "metadata": {},
   "outputs": [],
   "source": [
    "# Now remove duplicate Values.\n",
    "data.drop_duplicates(inplace=True)"
   ]
  },
  {
   "cell_type": "code",
   "execution_count": 11,
   "id": "c0f2ead0",
   "metadata": {},
   "outputs": [],
   "source": [
    "# Now Check and Correct Outliers and Errors:\n",
    "# I see few values are negative in data not convert netive number to zero.\n",
    "\n",
    "# Filter out negative values where they don't make sense:\n",
    "data = data[(data['Quantity'] >= 0) & (data['TotalAmount'] >= 0) & (data['PricePerUnit'] >= 0)]\n"
   ]
  },
  {
   "cell_type": "code",
   "execution_count": 13,
   "id": "bf09b6a0",
   "metadata": {},
   "outputs": [
    {
     "name": "stdout",
     "output_type": "stream",
     "text": [
      "    TransactionID  CustomerID     TransactionDate  ProductID ProductCategory  \\\n",
      "0               1      1002.0 2024-08-08 22:00:00       2008         Grocery   \n",
      "2               3      1004.0 2024-02-08 19:00:00       2002         Grocery   \n",
      "7               8      1005.0 2024-04-08 22:00:00       2006            Toys   \n",
      "9              10      1004.0 2024-01-08 14:00:00       2005         Fashion   \n",
      "13             14      1002.0 2024-08-08 21:00:00       2006            Toys   \n",
      "14             15      1001.0 2024-02-08 15:00:00       2003            Toys   \n",
      "15             16      1001.0 2024-09-08 20:00:00       2003            Toys   \n",
      "21             22      1001.0 2024-07-08 09:00:00       2003     Electronics   \n",
      "22             23      1002.0 2024-10-08 00:00:00       2001     Electronics   \n",
      "24             25      1003.0 2024-06-08 03:00:00       2002     Electronics   \n",
      "\n",
      "    Quantity  PricePerUnit  TotalAmount  TrustPointsUsed PaymentMethod  \\\n",
      "0          1          10.0         10.0               20  Trust Points   \n",
      "2          3          30.0         90.0                0   Credit Card   \n",
      "7          1          50.0         50.0              -10  Trust Points   \n",
      "9          2         500.0       1000.0              -10          Cash   \n",
      "13         3          50.0        150.0               20          Cash   \n",
      "14         1          30.0         30.0              -10          Cash   \n",
      "15         3          10.0         30.0               20  Trust Points   \n",
      "21         0         500.0          0.0               50  Trust Points   \n",
      "22         1          30.0         30.0                0          Cash   \n",
      "24         1         500.0        500.0               50          Cash   \n",
      "\n",
      "    DiscountApplied  \n",
      "0               5.0  \n",
      "2              25.0  \n",
      "7              30.0  \n",
      "9              30.0  \n",
      "13             50.0  \n",
      "14             20.0  \n",
      "15             10.0  \n",
      "21             15.0  \n",
      "22              5.0  \n",
      "24             50.0  \n"
     ]
    }
   ],
   "source": [
    "print(data.head(10))"
   ]
  },
  {
   "cell_type": "markdown",
   "id": "5b56e212",
   "metadata": {},
   "source": [
    "### 2. Data Aggregation and Grouping"
   ]
  },
  {
   "cell_type": "code",
   "execution_count": 14,
   "id": "916ba087",
   "metadata": {},
   "outputs": [],
   "source": [
    "# Fields to Aggregate:\n",
    "\n",
    "#TotalAmount: Sum total amounts for different categories or time periods.\n",
    "#Quantity: Sum quantities sold by product or category.\n",
    "#DiscountApplied: Sum or average of discounts applied.\n",
    "#TrustPointsUsed: Sum or average of trust points used.\n",
    "#PricePerUnit: Average price per unit (if necessary)."
   ]
  },
  {
   "cell_type": "code",
   "execution_count": 15,
   "id": "f9677519",
   "metadata": {},
   "outputs": [
    {
     "name": "stdout",
     "output_type": "stream",
     "text": [
      "ProductCategory\n",
      "Electronics     700.0\n",
      "Fashion        1050.0\n",
      "Grocery         300.0\n",
      "Home Decor       50.0\n",
      "Toys            580.0\n",
      "Name: TotalAmount, dtype: float64\n"
     ]
    }
   ],
   "source": [
    "# Total Sales by Product Category:\n",
    "sales_by_category = data.groupby('ProductCategory')['TotalAmount'].sum()\n",
    "print(sales_by_category)"
   ]
  },
  {
   "cell_type": "code",
   "execution_count": 16,
   "id": "70c026c0",
   "metadata": {},
   "outputs": [
    {
     "name": "stdout",
     "output_type": "stream",
     "text": [
      "ProductID\n",
      "2001     1\n",
      "2002     4\n",
      "2003     6\n",
      "2004     1\n",
      "2005     2\n",
      "2006     6\n",
      "2007    11\n",
      "2008     3\n",
      "Name: Quantity, dtype: int64\n"
     ]
    }
   ],
   "source": [
    "# Total Quantity Sold by Product ID:\n",
    "quantity_by_product = data.groupby('ProductID')['Quantity'].sum()\n",
    "print(quantity_by_product)"
   ]
  },
  {
   "cell_type": "code",
   "execution_count": 17,
   "id": "c6433b23",
   "metadata": {},
   "outputs": [
    {
     "name": "stdout",
     "output_type": "stream",
     "text": [
      "PaymentMethod\n",
      "Cash            28.000000\n",
      "Credit Card     22.500000\n",
      "Trust Points    17.777778\n",
      "Name: DiscountApplied, dtype: float64\n"
     ]
    }
   ],
   "source": [
    "# Average Discount Applied by Payment Method:\n",
    "avg_discount_by_payment = data.groupby('PaymentMethod')['DiscountApplied'].mean()\n",
    "print(avg_discount_by_payment)"
   ]
  },
  {
   "cell_type": "markdown",
   "id": "2d381bc0",
   "metadata": {},
   "source": [
    "### 3. Data Validation"
   ]
  },
  {
   "cell_type": "code",
   "execution_count": 18,
   "id": "47dee98c",
   "metadata": {},
   "outputs": [
    {
     "name": "stdout",
     "output_type": "stream",
     "text": [
      "Total Sales (Raw Data): 2680.0\n"
     ]
    }
   ],
   "source": [
    "#Verify Aggregated Results:\n",
    "\n",
    "#Compare aggregated results with raw data to ensure accuracy.\n",
    "#Validate if calculated totals and summaries align with expectations.\n",
    "#Validation Process:\n",
    "\n",
    "#Cross-check Aggregations:\n",
    "\n",
    "#For instance, sum of TotalAmount across all transactions should match the sum of TotalAmount in grouped results.\n",
    "#Edge Cases:\n",
    "\n",
    "total_sales_raw = data['TotalAmount'].sum()\n",
    "print(f\"Total Sales (Raw Data): {total_sales_raw}\")"
   ]
  },
  {
   "cell_type": "code",
   "execution_count": 19,
   "id": "c6ad9017",
   "metadata": {},
   "outputs": [
    {
     "name": "stdout",
     "output_type": "stream",
     "text": [
      "Total Sales (Aggregated by Category): 2680.0\n"
     ]
    }
   ],
   "source": [
    "# Total sales by product category\n",
    "sales_by_category = data.groupby('ProductCategory')['TotalAmount'].sum()\n",
    "total_sales_category = sales_by_category.sum()\n",
    "print(f\"Total Sales (Aggregated by Category): {total_sales_category}\")\n"
   ]
  },
  {
   "cell_type": "code",
   "execution_count": 20,
   "id": "5ec7b422",
   "metadata": {},
   "outputs": [],
   "source": [
    "# Ensure both totals match:\n",
    "assert total_sales_raw == total_sales_category, \"Total sales mismatch!\""
   ]
  },
  {
   "cell_type": "code",
   "execution_count": 21,
   "id": "0b46d530",
   "metadata": {},
   "outputs": [
    {
     "name": "stdout",
     "output_type": "stream",
     "text": [
      "Negative Quantities:\n",
      "Empty DataFrame\n",
      "Columns: [TransactionID, CustomerID, TransactionDate, ProductID, ProductCategory, Quantity, PricePerUnit, TotalAmount, TrustPointsUsed, PaymentMethod, DiscountApplied]\n",
      "Index: []\n",
      "Negative Total Amounts:\n",
      "Empty DataFrame\n",
      "Columns: [TransactionID, CustomerID, TransactionDate, ProductID, ProductCategory, Quantity, PricePerUnit, TotalAmount, TrustPointsUsed, PaymentMethod, DiscountApplied]\n",
      "Index: []\n",
      "Negative Prices per Unit:\n",
      "Empty DataFrame\n",
      "Columns: [TransactionID, CustomerID, TransactionDate, ProductID, ProductCategory, Quantity, PricePerUnit, TotalAmount, TrustPointsUsed, PaymentMethod, DiscountApplied]\n",
      "Index: []\n"
     ]
    }
   ],
   "source": [
    "#Check Data Integrity:\n",
    "\n",
    "#Ensure no negative values in fields where they shouldn't be.\n",
    "# Check for negative values in fields that should be non-negative\n",
    "#Negative values for Quantity or TotalAmount.\n",
    "\n",
    "negative_quantities = data[data['Quantity'] < 0]\n",
    "negative_amounts = data[data['TotalAmount'] < 0]\n",
    "negative_prices = data[data['PricePerUnit'] < 0]\n",
    "\n",
    "print(\"Negative Quantities:\")\n",
    "print(negative_quantities)\n",
    "print(\"Negative Total Amounts:\")\n",
    "print(negative_amounts)\n",
    "print(\"Negative Prices per Unit:\")\n",
    "print(negative_prices)"
   ]
  },
  {
   "cell_type": "code",
   "execution_count": 22,
   "id": "f898186c",
   "metadata": {},
   "outputs": [
    {
     "name": "stdout",
     "output_type": "stream",
     "text": [
      "Missing Values in Each Column:\n",
      "TransactionID      0\n",
      "CustomerID         0\n",
      "TransactionDate    0\n",
      "ProductID          0\n",
      "ProductCategory    0\n",
      "Quantity           0\n",
      "PricePerUnit       0\n",
      "TotalAmount        0\n",
      "TrustPointsUsed    0\n",
      "PaymentMethod      0\n",
      "DiscountApplied    0\n",
      "dtype: int64\n"
     ]
    }
   ],
   "source": [
    "#Missing values in critical columns.\n",
    "#Unusual high or low values.\n",
    "# Check for missing values in critical columns.\n",
    "\n",
    "missing_values = data.isnull().sum()\n",
    "print(\"Missing Values in Each Column:\")\n",
    "print(missing_values)"
   ]
  },
  {
   "cell_type": "markdown",
   "id": "31b04416",
   "metadata": {},
   "source": [
    "### 4. Now Process to Data Visualizations Report."
   ]
  },
  {
   "cell_type": "code",
   "execution_count": 23,
   "id": "3271fc75",
   "metadata": {},
   "outputs": [],
   "source": [
    "# Now import Visualizations library for the creating Visualization Report.\n",
    "import matplotlib.pyplot as plt"
   ]
  },
  {
   "cell_type": "code",
   "execution_count": 24,
   "id": "e81a2328",
   "metadata": {},
   "outputs": [
    {
     "data": {
      "image/png": "[encoded data removed]",
      "text/plain": [
       "<Figure size 1200x600 with 1 Axes>"
      ]
     },
     "metadata": {},
     "output_type": "display_data"
    }
   ],
   "source": [
    "# Total Sales Over Time:\n",
    "sales_over_time = data.groupby('TransactionDate')['TotalAmount'].sum()\n",
    "plt.figure(figsize=(12, 6))\n",
    "plt.plot(sales_over_time.index, sales_over_time, marker='o')\n",
    "plt.title('Total Sales Over Time')\n",
    "plt.xlabel('Date')\n",
    "plt.ylabel('Total Sales')\n",
    "plt.grid(True)\n",
    "plt.show()"
   ]
  },
  {
   "cell_type": "code",
   "execution_count": 25,
   "id": "7f3c2cd2",
   "metadata": {},
   "outputs": [
    {
     "data": {
      "image/png": "[encoded data removed]",
      "text/plain": [
       "<Figure size 1000x600 with 1 Axes>"
      ]
     },
     "metadata": {},
     "output_type": "display_data"
    }
   ],
   "source": [
    "# Sales by Product Category:\n",
    "\n",
    "category_sales = data.groupby('ProductCategory')['TotalAmount'].sum()\n",
    "plt.figure(figsize=(10, 6))\n",
    "category_sales.plot(kind='bar')\n",
    "plt.title('Sales by Product Category')\n",
    "plt.xlabel('Product Category')\n",
    "plt.ylabel('Total Sales')\n",
    "plt.grid(True)\n",
    "plt.show()"
   ]
  },
  {
   "cell_type": "code",
   "execution_count": 26,
   "id": "038a8625",
   "metadata": {},
   "outputs": [
    {
     "data": {
      "image/png": "[encoded data removed]",
      "text/plain": [
       "<Figure size 1200x600 with 1 Axes>"
      ]
     },
     "metadata": {},
     "output_type": "display_data"
    }
   ],
   "source": [
    "# Quantity Sold by Product ID:\n",
    "\n",
    "quantity_by_product = data.groupby('ProductID')['Quantity'].sum()\n",
    "plt.figure(figsize=(12, 6))\n",
    "quantity_by_product.plot(kind='bar')\n",
    "plt.title('Quantity Sold by Product ID')\n",
    "plt.xlabel('Product ID')\n",
    "plt.ylabel('Total Quantity')\n",
    "plt.grid(True)\n",
    "plt.show()"
   ]
  },
  {
   "cell_type": "code",
   "execution_count": null,
   "id": "196d22cf",
   "metadata": {},
   "outputs": [],
   "source": [
    "# Linearity Check:\n",
    "# To check if data is linearly projected, you can use a scatter plot and fit a line to see if it approximates the data."
   ]
  },
  {
   "cell_type": "markdown",
   "id": "e92c648f",
   "metadata": {},
   "source": [
    "### Now Start SQL Integration."
   ]
  },
  {
   "cell_type": "code",
   "execution_count": 27,
   "id": "855e19c1",
   "metadata": {},
   "outputs": [],
   "source": [
    "# Create a MySQL Table:\n",
    "\n",
    "# insert CSV into SQL and Perform Aggregations:\n",
    "import mysql.connector\n",
    "\n",
    "# Establish MySQL connection\n",
    "conn = mysql.connector.connect(\n",
    "    host='localhost',\n",
    "    user='root',\n",
    "    password='Manish@12345',\n",
    "    database='Yuma'\n",
    ")\n",
    "cursor = conn.cursor()\n",
    "\n",
    "# Load CSV data into MySQL\n",
    "for _, row in data.iterrows():\n",
    "    cursor.execute(\"\"\"\n",
    "        INSERT INTO transactions (\n",
    "            TransactionID, CustomerID, TransactionDate, ProductID, ProductCategory, \n",
    "            Quantity, PricePerUnit, TotalAmount, TrustPointsUsed, PaymentMethod, \n",
    "            DiscountApplied\n",
    "        ) VALUES (%s, %s, %s, %s, %s, %s, %s, %s, %s, %s, %s)\n",
    "    \"\"\", (\n",
    "        row['TransactionID'], row['CustomerID'], row['TransactionDate'], row['ProductID'],\n",
    "        row['ProductCategory'], row['Quantity'], row['PricePerUnit'], row['TotalAmount'],\n",
    "        row['TrustPointsUsed'], row['PaymentMethod'], row['DiscountApplied']\n",
    "    ))\n",
    "\n",
    "conn.commit()\n",
    "cursor.close()\n",
    "conn.close()\n"
   ]
  },
  {
   "cell_type": "code",
   "execution_count": null,
   "id": "6d755982",
   "metadata": {},
   "outputs": [],
   "source": [
    " # Now Start Perform Aggregationsin Mysql WorkBench: These are the query which i perform on Mysql workbench.\n",
    "    \n",
    "# Total Sales by Product Category:\n",
    "'''\n",
    "SELECT ProductCategory, SUM(TotalAmount) as TotalSales\n",
    "FROM transactions\n",
    "GROUP BY ProductCategory;\n",
    "'''\n",
    "\n",
    "# Average Discount Applied by Payment Method:\n",
    "'''\n",
    "SELECT PaymentMethod, AVG(DiscountApplied) as AvgDiscount\n",
    "FROM transactions\n",
    "GROUP BY PaymentMethod;\n",
    "'''\n",
    "# Total Quantity Sold by Product ID:\n",
    "'''\n",
    "SELECT ProductID, SUM(Quantity) as TotalQuantity\n",
    "FROM transactions\n",
    "GROUP BY ProductID;\n",
    "'''"
   ]
  },
  {
   "cell_type": "markdown",
   "id": "ad8e9231",
   "metadata": {},
   "source": [
    "### Summary:"
   ]
  },
  {
   "cell_type": "code",
   "execution_count": null,
   "id": "6651ce33",
   "metadata": {},
   "outputs": [],
   "source": [
    "#Data Preprocessing: Cleaned data, handled missing values, corrected data types.\n",
    "\n",
    "#Data Aggregation: Summed up values for Quantity, TotalAmount, TrustPointsUsed, DiscountApplied.\n",
    "\n",
    "#Data Validation: Verified missing values, data types, and cross-validated results.\n",
    "\n",
    "#Data Visualization: Plotted time series and bar graphs for insights.\n",
    "\n",
    "#MySQL Integration: Created table, inserted data, and performed SQL aggregations."
   ]
  }
 ],
 "metadata": {
  "kernelspec": {
   "display_name": "Python 3 (ipykernel)",
   "language": "python",
   "name": "python3"
  },
  "language_info": {
   "codemirror_mode": {
    "name": "ipython",
    "version": 3
   },
   "file_extension": ".py",
   "mimetype": "text/x-python",
   "name": "python",
   "nbconvert_exporter": "python",
   "pygments_lexer": "ipython3",
   "version": "3.9.13"
  }
 },
 "nbformat": 4,
 "nbformat_minor": 5
}
